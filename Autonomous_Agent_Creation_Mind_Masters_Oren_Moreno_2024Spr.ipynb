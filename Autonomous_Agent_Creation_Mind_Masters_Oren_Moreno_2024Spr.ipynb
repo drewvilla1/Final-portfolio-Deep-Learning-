{
  "nbformat": 4,
  "nbformat_minor": 0,
  "metadata": {
    "colab": {
      "provenance": []
    },
    "kernelspec": {
      "name": "python3",
      "display_name": "Python 3"
    },
    "language_info": {
      "name": "python"
    }
  },
  "cells": [
    {
      "cell_type": "code",
      "execution_count": null,
      "metadata": {
        "id": "qMZWi6faKG56",
        "colab": {
          "base_uri": "https://localhost:8080/"
        },
        "outputId": "a9472119-62c7-4763-a515-f07fb65ce175"
      },
      "outputs": [
        {
          "output_type": "stream",
          "name": "stderr",
          "text": [
            "[nltk_data] Downloading package stopwords to /root/nltk_data...\n",
            "[nltk_data]   Unzipping corpora/stopwords.zip.\n"
          ]
        }
      ],
      "source": [
        "# Import libraries\n",
        "import pandas as pd\n",
        "from sklearn.datasets import fetch_20newsgroups\n",
        "from nltk.corpus import stopwords\n",
        "import nltk\n",
        "nltk.download('stopwords')\n",
        "from sklearn.feature_extraction.text import TfidfVectorizer\n",
        "from gensim.models import Word2Vec\n",
        "import gensim.downloader as api"
      ]
    },
    {
      "cell_type": "code",
      "source": [
        "# Load the Word2Vec model\n",
        "model = api.load('word2vec-google-news-300')"
      ],
      "metadata": {
        "id": "po5Yupk-Ksgw",
        "colab": {
          "base_uri": "https://localhost:8080/"
        },
        "outputId": "5e6a9c11-ea7b-43a0-a3f3-6bc43e8d6eb6"
      },
      "execution_count": 5,
      "outputs": [
        {
          "output_type": "stream",
          "name": "stdout",
          "text": [
            "[==================================================] 100.0% 1662.8/1662.8MB downloaded\n"
          ]
        }
      ]
    },
    {
      "cell_type": "code",
      "source": [
        "# Load the 20newsgroups dataset\n",
        "newsgroups_train = fetch_20newsgroups(subset='train')"
      ],
      "metadata": {
        "id": "z9dwjXsrKuvV"
      },
      "execution_count": null,
      "outputs": []
    },
    {
      "cell_type": "code",
      "source": [
        "# Takes lists of texts and their titles then finds the most unique word (keyword) in each text according to TF-IDF\n",
        "def get_top_tfidf_word(texts, category_name):\n",
        "    stop_words = stopwords.words('english')\n",
        "    vectorizer = TfidfVectorizer(stop_words=stop_words) # Creates vectorizer including stopwords to be ignored\n",
        "    vectors = vectorizer.fit_transform(texts) # Fits text to vectorizer by transforming to TF-IDF matrix\n",
        "    feature_names = vectorizer.get_feature_names_out() # Gets words of associated TF-IDF scores\n",
        "    dense = vectors.todense() # Turns sparse TF-IDF matrix into dense\n",
        "    denselist = dense.tolist() # Makes dense matrix a list of lists\n",
        "    df = pd.DataFrame(denselist, columns=feature_names) # Creates dataframe with words from dataset as columns\n",
        "    top_word_idx = df.sum().argmax() # Finds the index position with the highest TF-IDF score summed up across all documents in the category\n",
        "    top_word = feature_names[top_word_idx] # Gets the word at that position\n",
        "    top_tfidf = df.sum().max() # Gets the TF-IDF score for that word\n",
        "    return top_word, top_tfidf"
      ],
      "metadata": {
        "id": "_-wa_xw9Kzqj"
      },
      "execution_count": null,
      "outputs": []
    },
    {
      "cell_type": "code",
      "source": [
        "top_words = [] # Empty list to store keywords\n",
        "# Loops through each category in dataset and outputs the unique keyword with its TF-IDF score and category it belongs to\n",
        "for category in newsgroups_train.target_names:\n",
        "    category_index = newsgroups_train.target_names.index(category) # Locates index position of category\n",
        "    category_mask = (newsgroups_train.target == category_index) # Specifies the documents that belong to category using boolean mask\n",
        "    category_texts = [text for text, mask in zip(newsgroups_train.data, category_mask) if mask] # Filters out the documents that do not belong to category\n",
        "    top_word, top_tfidf = get_top_tfidf_word(category_texts, category) # Calls keyword function\n",
        "    top_words.append((top_word, top_tfidf, category)) # Adds the word, its TF-IDF score, and category to list of keywords\n",
        "    print(f\"Top word for category '{category}': {top_word} (TF-IDF score: {top_tfidf:.4f})\")"
      ],
      "metadata": {
        "id": "6z-lcf0MK2xj",
        "colab": {
          "base_uri": "https://localhost:8080/"
        },
        "outputId": "120d3ca6-f423-4f52-f872-620f47c79d97"
      },
      "execution_count": null,
      "outputs": [
        {
          "output_type": "stream",
          "name": "stdout",
          "text": [
            "Top word for category 'alt.atheism': edu (TF-IDF score: 24.0282)\n",
            "Top word for category 'comp.graphics': edu (TF-IDF score: 22.0857)\n",
            "Top word for category 'comp.os.ms-windows.misc': edu (TF-IDF score: 23.7632)\n",
            "Top word for category 'comp.sys.ibm.pc.hardware': edu (TF-IDF score: 20.7596)\n",
            "Top word for category 'comp.sys.mac.hardware': edu (TF-IDF score: 24.8660)\n",
            "Top word for category 'comp.windows.x': edu (TF-IDF score: 19.3980)\n",
            "Top word for category 'misc.forsale': edu (TF-IDF score: 23.9920)\n",
            "Top word for category 'rec.autos': edu (TF-IDF score: 23.1517)\n",
            "Top word for category 'rec.motorcycles': com (TF-IDF score: 23.2428)\n",
            "Top word for category 'rec.sport.baseball': edu (TF-IDF score: 29.9561)\n",
            "Top word for category 'rec.sport.hockey': edu (TF-IDF score: 25.9939)\n",
            "Top word for category 'sci.crypt': key (TF-IDF score: 22.3453)\n",
            "Top word for category 'sci.electronics': edu (TF-IDF score: 21.5093)\n",
            "Top word for category 'sci.med': edu (TF-IDF score: 26.1149)\n",
            "Top word for category 'sci.space': edu (TF-IDF score: 24.3572)\n",
            "Top word for category 'soc.religion.christian': god (TF-IDF score: 26.0375)\n",
            "Top word for category 'talk.politics.guns': edu (TF-IDF score: 24.1822)\n",
            "Top word for category 'talk.politics.mideast': edu (TF-IDF score: 22.9387)\n",
            "Top word for category 'talk.politics.misc': edu (TF-IDF score: 20.3259)\n",
            "Top word for category 'talk.religion.misc': edu (TF-IDF score: 14.6385)\n"
          ]
        }
      ]
    },
    {
      "cell_type": "code",
      "source": [
        "print(\"\\nKeyword Similarities:\")\n",
        "# Calculate similarities between top words\n",
        "for i in range(len(top_words)):\n",
        "    word1, tfidf1, category1 = top_words[i]\n",
        "    most_similar_word = None\n",
        "    max_similarity = -1\n",
        "    for j in range(len(top_words)):\n",
        "        if i != j: # Makes sure word is from different category\n",
        "            word2, tfidf2, category2 = top_words[j]\n",
        "            try:\n",
        "                similarity = model.similarity(word1, word2) # Calculates similarity using word2vec representations\n",
        "                if similarity > max_similarity: # Checks to find the most similar keyword in list of keywords\n",
        "                    max_similarity = similarity\n",
        "                    most_similar_word = (word2, category2)\n",
        "            except KeyError:\n",
        "                continue\n",
        "    if most_similar_word:\n",
        "        print(f\"'{word1}' ({category1}) is most similar to '{most_similar_word[0]}' ({most_similar_word[1]}) with similarity: {max_similarity:.4f}\")\n",
        "    else:\n",
        "        print(f\"No similar word found for '{word1}' ({category1})\")"
      ],
      "metadata": {
        "id": "oCdktN-uK7V9",
        "colab": {
          "base_uri": "https://localhost:8080/"
        },
        "outputId": "77e42220-929d-4a1b-ba7e-293644613673"
      },
      "execution_count": 6,
      "outputs": [
        {
          "output_type": "stream",
          "name": "stdout",
          "text": [
            "\n",
            "Keyword Similarities:\n",
            "'edu' (alt.atheism) is most similar to 'edu' (comp.graphics) with similarity: 1.0000\n",
            "'edu' (comp.graphics) is most similar to 'edu' (alt.atheism) with similarity: 1.0000\n",
            "'edu' (comp.os.ms-windows.misc) is most similar to 'edu' (alt.atheism) with similarity: 1.0000\n",
            "'edu' (comp.sys.ibm.pc.hardware) is most similar to 'edu' (alt.atheism) with similarity: 1.0000\n",
            "'edu' (comp.sys.mac.hardware) is most similar to 'edu' (alt.atheism) with similarity: 1.0000\n",
            "'edu' (comp.windows.x) is most similar to 'edu' (alt.atheism) with similarity: 1.0000\n",
            "'edu' (misc.forsale) is most similar to 'edu' (alt.atheism) with similarity: 1.0000\n",
            "'edu' (rec.autos) is most similar to 'edu' (alt.atheism) with similarity: 1.0000\n",
            "'com' (rec.motorcycles) is most similar to 'edu' (alt.atheism) with similarity: 0.5552\n",
            "'edu' (rec.sport.baseball) is most similar to 'edu' (alt.atheism) with similarity: 1.0000\n",
            "'edu' (rec.sport.hockey) is most similar to 'edu' (alt.atheism) with similarity: 1.0000\n",
            "'key' (sci.crypt) is most similar to 'edu' (alt.atheism) with similarity: 0.0109\n",
            "'edu' (sci.electronics) is most similar to 'edu' (alt.atheism) with similarity: 1.0000\n",
            "'edu' (sci.med) is most similar to 'edu' (alt.atheism) with similarity: 1.0000\n",
            "'edu' (sci.space) is most similar to 'edu' (alt.atheism) with similarity: 1.0000\n",
            "'god' (soc.religion.christian) is most similar to 'edu' (alt.atheism) with similarity: 0.1593\n",
            "'edu' (talk.politics.guns) is most similar to 'edu' (alt.atheism) with similarity: 1.0000\n",
            "'edu' (talk.politics.mideast) is most similar to 'edu' (alt.atheism) with similarity: 1.0000\n",
            "'edu' (talk.politics.misc) is most similar to 'edu' (alt.atheism) with similarity: 1.0000\n",
            "'edu' (talk.religion.misc) is most similar to 'edu' (alt.atheism) with similarity: 1.0000\n"
          ]
        }
      ]
    }
  ]
}